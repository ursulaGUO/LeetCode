{
 "cells": [
  {
   "cell_type": "code",
   "execution_count": 2,
   "metadata": {},
   "outputs": [],
   "source": [
    "import numpy as np\n",
    "import pandas as pd\n",
    "import re\n",
    "from typing import List\n"
   ]
  },
  {
   "cell_type": "markdown",
   "metadata": {},
   "source": [
    "## 1071 Greatest common divisor of strings"
   ]
  },
  {
   "cell_type": "code",
   "execution_count": 42,
   "metadata": {},
   "outputs": [
    {
     "name": "stdout",
     "output_type": "stream",
     "text": [
      "AB\n",
      "AB\n",
      "ABAB\n"
     ]
    },
    {
     "data": {
      "text/plain": [
       "'\\nresult = \"AB\"\\nstr1 = \"ABAB\"\\nstr2 = \"AB\"\\nprint(re.sub(result,\"\" ,str1) == \"\" and re.sub(result, \"\", str2) == \"\")\\n#print(re.sub(str2, \"\", str1))\\n'"
      ]
     },
     "execution_count": 42,
     "metadata": {},
     "output_type": "execute_result"
    }
   ],
   "source": [
    "def gcdOfStrings(str1: str, str2:str) -> str:\n",
    "    result = \"\"\n",
    "    j = 0\n",
    "    while j <= len(str2):\n",
    "        result = str2[0:len(str2)-j]\n",
    "        if re.sub(result,\"\" ,str1) == \"\" and re.sub(result, \"\", str2) == \"\": #if both can divide\n",
    "            return result\n",
    "        j += 1\n",
    "    return \"\"\n",
    "\n",
    "example1 = gcdOfStrings(\"ABABAB\",\"AB\")  # Should be AB\n",
    "print(example1)\n",
    "\n",
    "example2 = gcdOfStrings(\"ABABAB\",\"ABAB\")  # Should be AB\n",
    "print(example2)\n",
    "\n",
    "example3 = gcdOfStrings(\"ABABABAB\", \"ABAB\") # Should be ABAB\n",
    "print(example3)"
   ]
  },
  {
   "cell_type": "code",
   "execution_count": null,
   "metadata": {},
   "outputs": [],
   "source": [
    "## Better solutions:\n",
    "\n",
    "def gcdOfStrings(self, str1: str, str2: str) -> str:\n",
    "    len1, len2 = len(str1), len(str2)\n",
    "    \n",
    "    def valid(k):\n",
    "        if len1 % k or len2 % k: \n",
    "            return False\n",
    "        n1, n2 = len1 // k, len2 // k\n",
    "        base = str1[:k]\n",
    "        return str1 == n1 * base and str2 == n2 * base \n",
    "    \n",
    "    for i in range(min(len1, len2), 0, -1):\n",
    "        if valid(i):\n",
    "            return str1[:i]\n",
    "    return \"\"\n",
    "\n",
    "def gcdOfStrings(self, str1: str, str2: str) -> str:\n",
    "    # Check if they have non-zero GCD string.\n",
    "    if str1 + str2 != str2 + str1:\n",
    "        return \"\"\n",
    "\n",
    "    # Get the GCD of the two lengths.\n",
    "    max_length = gcd(len(str1), len(str2))\n",
    "    return str1[:max_length]"
   ]
  },
  {
   "cell_type": "markdown",
   "metadata": {},
   "source": [
    "## 1768 Merge strings alternatively"
   ]
  },
  {
   "cell_type": "code",
   "execution_count": 2,
   "metadata": {},
   "outputs": [
    {
     "name": "stdout",
     "output_type": "stream",
     "text": [
      "apbqcd\n"
     ]
    }
   ],
   "source": [
    "def mergeAlternately(word1: str, word2: str) -> str:\n",
    "    i = 0\n",
    "    j = 0\n",
    "    result = ''\n",
    "    while i < len(word1) and j < len(word2):\n",
    "        result += word1[i] + word2[j]\n",
    "        i += 1\n",
    "        j += 1\n",
    "    result += word1[i:] + word2[j:]\n",
    "\n",
    "    return result\n",
    "\n",
    "word1 = \"abcd\"\n",
    "word2 = \"pq\"\n",
    "print(mergeAlternately(word1,word2))"
   ]
  },
  {
   "cell_type": "markdown",
   "metadata": {},
   "source": [
    "## 1431 Kids with the greatest number of candies"
   ]
  },
  {
   "cell_type": "code",
   "execution_count": 44,
   "metadata": {},
   "outputs": [
    {
     "data": {
      "text/plain": [
       "[True, True, True, False, True]"
      ]
     },
     "metadata": {},
     "output_type": "display_data"
    }
   ],
   "source": [
    "def kidsWithCandies(candies: List[int], extraCandies: int) -> List[bool]:\n",
    "    boolList = []\n",
    "    # We want to make a list that records the \n",
    "    mostCandies = max(candies)\n",
    "    mostCandiesIndex = np.argmin(mostCandies) # Getting the index \n",
    "\n",
    "    for i in candies:\n",
    "        if extraCandies + i >= mostCandies:\n",
    "            boolList.append(True)\n",
    "        else:\n",
    "            boolList.append(False)\n",
    "    return boolList\n",
    "\n",
    "candies = [2,3,5,1,3]\n",
    "extraCandies = 3\n",
    "result = kidsWithCandies(candies,extraCandies)\n",
    "display(result)\n"
   ]
  },
  {
   "cell_type": "markdown",
   "metadata": {},
   "source": [
    "## 605 Can place flowers"
   ]
  },
  {
   "cell_type": "code",
   "execution_count": 14,
   "metadata": {},
   "outputs": [
    {
     "name": "stdout",
     "output_type": "stream",
     "text": [
      "True\n"
     ]
    }
   ],
   "source": [
    "def canPlaceFlowers(flowerbed: List[int], n: int) -> bool:\n",
    "    # Deal with the start of the list\n",
    "        if len(flowerbed) >= 2:\n",
    "            if flowerbed[0] == 0 and flowerbed[1] == 0:\n",
    "                n = n - 1\n",
    "                flowerbed[0] = 1\n",
    "\n",
    "        # Deal with the middle of the list\n",
    "        for j in range(1,len(flowerbed)-1):      \n",
    "            if flowerbed[j] == 0 and flowerbed[j-1] == 0 and flowerbed[j+1] == 0:\n",
    "                flowerbed[j] = 1\n",
    "                n = n - 1\n",
    "                continue\n",
    "\n",
    "        # Deal with the end of the list\n",
    "        if flowerbed[len(flowerbed) - 1] == 0 and flowerbed[len(flowerbed) - 2] == 0:\n",
    "            flowerbed[len(flowerbed) - 1] = 1\n",
    "            n = n - 1\n",
    "\n",
    "        # Judge result\n",
    "        if n <= 0:\n",
    "            return True\n",
    "        else: \n",
    "            return False\n",
    "\n",
    "flowerbed1 = [0,0,0,0,1]\n",
    "print(canPlaceFlowers(flowerbed1,2))\n"
   ]
  },
  {
   "cell_type": "markdown",
   "metadata": {},
   "source": [
    "## 345 Reverse order of vowels"
   ]
  },
  {
   "cell_type": "code",
   "execution_count": 22,
   "metadata": {},
   "outputs": [
    {
     "name": "stdout",
     "output_type": "stream",
     "text": [
      "leotcede\n"
     ]
    }
   ],
   "source": [
    "def reverseVowels(s: str) -> str:\n",
    "    vowels = \"aeiouAEIOU\"\n",
    "    left = 0\n",
    "    word = list(s)\n",
    "    right = len(word) - 1\n",
    "    \n",
    "    while left < right:\n",
    "        while left < right and word[left] not in vowels:\n",
    "            left += 1\n",
    "        \n",
    "        while left < right and word[right] not in vowels:\n",
    "            right -= 1\n",
    "        \n",
    "        word[left], word[right] = word[right], word[left]\n",
    "\n",
    "        left += 1\n",
    "        right -= 1\n",
    "\n",
    "    return \"\".join(word)\n",
    "\n",
    "print(reverseVowels(\"leetcode\"))\n"
   ]
  },
  {
   "cell_type": "code",
   "execution_count": null,
   "metadata": {},
   "outputs": [],
   "source": []
  }
 ],
 "metadata": {
  "kernelspec": {
   "display_name": "Python 3",
   "language": "python",
   "name": "python3"
  },
  "language_info": {
   "codemirror_mode": {
    "name": "ipython",
    "version": 3
   },
   "file_extension": ".py",
   "mimetype": "text/x-python",
   "name": "python",
   "nbconvert_exporter": "python",
   "pygments_lexer": "ipython3",
   "version": "3.9.6"
  }
 },
 "nbformat": 4,
 "nbformat_minor": 2
}
