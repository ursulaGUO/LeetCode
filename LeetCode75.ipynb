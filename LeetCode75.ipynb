{
 "cells": [
  {
   "cell_type": "code",
   "execution_count": 1,
   "metadata": {},
   "outputs": [],
   "source": [
    "import numpy as np\n",
    "import pandas as pd\n",
    "\n"
   ]
  },
  {
   "cell_type": "markdown",
   "metadata": {},
   "source": [
    "## 1071 Greatest common divisor of strings"
   ]
  },
  {
   "cell_type": "code",
   "execution_count": 6,
   "metadata": {},
   "outputs": [
    {
     "name": "stdout",
     "output_type": "stream",
     "text": [
      "ABC\n"
     ]
    }
   ],
   "source": [
    "import re\n",
    "def gcdOfStrings(str1: str, str2:str) -> str:\n",
    "    result = \"\"\n",
    "    for j in range(len(str2)):\n",
    "        result = str2[0:j]\n",
    "        if re.search(result, str1) == False:\n",
    "            return result\n",
    "        result = str2[0:j+1]\n",
    "    return result\n",
    "\n",
    "print(gcdOfStrings(\"ABCABC\",\"ABC\"))"
   ]
  },
  {
   "cell_type": "markdown",
   "metadata": {},
   "source": [
    "## 1768 Merge strings alternatively"
   ]
  },
  {
   "cell_type": "code",
   "execution_count": 2,
   "metadata": {},
   "outputs": [
    {
     "name": "stdout",
     "output_type": "stream",
     "text": [
      "apbqcd\n"
     ]
    }
   ],
   "source": [
    "def mergeAlternately(word1: str, word2: str) -> str:\n",
    "    i = 0\n",
    "    j = 0\n",
    "    result = ''\n",
    "    while i < len(word1) and j < len(word2):\n",
    "        result += word1[i] + word2[j]\n",
    "        i += 1\n",
    "        j += 1\n",
    "    result += word1[i:] + word2[j:]\n",
    "\n",
    "    return result\n",
    "\n",
    "word1 = \"abcd\"\n",
    "word2 = \"pq\"\n",
    "print(mergeAlternately(word1,word2))"
   ]
  }
 ],
 "metadata": {
  "kernelspec": {
   "display_name": "Python 3",
   "language": "python",
   "name": "python3"
  },
  "language_info": {
   "codemirror_mode": {
    "name": "ipython",
    "version": 3
   },
   "file_extension": ".py",
   "mimetype": "text/x-python",
   "name": "python",
   "nbconvert_exporter": "python",
   "pygments_lexer": "ipython3",
   "version": "3.11.7"
  }
 },
 "nbformat": 4,
 "nbformat_minor": 2
}
